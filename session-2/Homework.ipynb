{
 "cells": [
  {
   "cell_type": "code",
   "execution_count": 81,
   "id": "4b30b26a",
   "metadata": {},
   "outputs": [],
   "source": [
    "import pandas as pd\n",
    "import numpy as np\n",
    "from sklearn import linear_model\n",
    "from sklearn.metrics import mean_squared_error\n",
    "import matplotlib.pyplot as plt"
   ]
  },
  {
   "cell_type": "code",
   "execution_count": 2,
   "id": "e2e60c66",
   "metadata": {},
   "outputs": [],
   "source": [
    "df = pd.read_csv('AB_NYC_2019.csv')"
   ]
  },
  {
   "cell_type": "code",
   "execution_count": 3,
   "id": "df113ff6",
   "metadata": {},
   "outputs": [
    {
     "data": {
      "text/html": [
       "<div>\n",
       "<style scoped>\n",
       "    .dataframe tbody tr th:only-of-type {\n",
       "        vertical-align: middle;\n",
       "    }\n",
       "\n",
       "    .dataframe tbody tr th {\n",
       "        vertical-align: top;\n",
       "    }\n",
       "\n",
       "    .dataframe thead th {\n",
       "        text-align: right;\n",
       "    }\n",
       "</style>\n",
       "<table border=\"1\" class=\"dataframe\">\n",
       "  <thead>\n",
       "    <tr style=\"text-align: right;\">\n",
       "      <th></th>\n",
       "      <th>id</th>\n",
       "      <th>host_id</th>\n",
       "      <th>latitude</th>\n",
       "      <th>longitude</th>\n",
       "      <th>price</th>\n",
       "      <th>minimum_nights</th>\n",
       "      <th>number_of_reviews</th>\n",
       "      <th>reviews_per_month</th>\n",
       "      <th>calculated_host_listings_count</th>\n",
       "      <th>availability_365</th>\n",
       "    </tr>\n",
       "  </thead>\n",
       "  <tbody>\n",
       "    <tr>\n",
       "      <th>count</th>\n",
       "      <td>4.889500e+04</td>\n",
       "      <td>4.889500e+04</td>\n",
       "      <td>48895.000000</td>\n",
       "      <td>48895.000000</td>\n",
       "      <td>48895.000000</td>\n",
       "      <td>48895.000000</td>\n",
       "      <td>48895.000000</td>\n",
       "      <td>38843.000000</td>\n",
       "      <td>48895.000000</td>\n",
       "      <td>48895.000000</td>\n",
       "    </tr>\n",
       "    <tr>\n",
       "      <th>mean</th>\n",
       "      <td>1.901714e+07</td>\n",
       "      <td>6.762001e+07</td>\n",
       "      <td>40.728949</td>\n",
       "      <td>-73.952170</td>\n",
       "      <td>152.720687</td>\n",
       "      <td>7.029962</td>\n",
       "      <td>23.274466</td>\n",
       "      <td>1.373221</td>\n",
       "      <td>7.143982</td>\n",
       "      <td>112.781327</td>\n",
       "    </tr>\n",
       "    <tr>\n",
       "      <th>std</th>\n",
       "      <td>1.098311e+07</td>\n",
       "      <td>7.861097e+07</td>\n",
       "      <td>0.054530</td>\n",
       "      <td>0.046157</td>\n",
       "      <td>240.154170</td>\n",
       "      <td>20.510550</td>\n",
       "      <td>44.550582</td>\n",
       "      <td>1.680442</td>\n",
       "      <td>32.952519</td>\n",
       "      <td>131.622289</td>\n",
       "    </tr>\n",
       "    <tr>\n",
       "      <th>min</th>\n",
       "      <td>2.539000e+03</td>\n",
       "      <td>2.438000e+03</td>\n",
       "      <td>40.499790</td>\n",
       "      <td>-74.244420</td>\n",
       "      <td>0.000000</td>\n",
       "      <td>1.000000</td>\n",
       "      <td>0.000000</td>\n",
       "      <td>0.010000</td>\n",
       "      <td>1.000000</td>\n",
       "      <td>0.000000</td>\n",
       "    </tr>\n",
       "    <tr>\n",
       "      <th>25%</th>\n",
       "      <td>9.471945e+06</td>\n",
       "      <td>7.822033e+06</td>\n",
       "      <td>40.690100</td>\n",
       "      <td>-73.983070</td>\n",
       "      <td>69.000000</td>\n",
       "      <td>1.000000</td>\n",
       "      <td>1.000000</td>\n",
       "      <td>0.190000</td>\n",
       "      <td>1.000000</td>\n",
       "      <td>0.000000</td>\n",
       "    </tr>\n",
       "    <tr>\n",
       "      <th>50%</th>\n",
       "      <td>1.967728e+07</td>\n",
       "      <td>3.079382e+07</td>\n",
       "      <td>40.723070</td>\n",
       "      <td>-73.955680</td>\n",
       "      <td>106.000000</td>\n",
       "      <td>3.000000</td>\n",
       "      <td>5.000000</td>\n",
       "      <td>0.720000</td>\n",
       "      <td>1.000000</td>\n",
       "      <td>45.000000</td>\n",
       "    </tr>\n",
       "    <tr>\n",
       "      <th>75%</th>\n",
       "      <td>2.915218e+07</td>\n",
       "      <td>1.074344e+08</td>\n",
       "      <td>40.763115</td>\n",
       "      <td>-73.936275</td>\n",
       "      <td>175.000000</td>\n",
       "      <td>5.000000</td>\n",
       "      <td>24.000000</td>\n",
       "      <td>2.020000</td>\n",
       "      <td>2.000000</td>\n",
       "      <td>227.000000</td>\n",
       "    </tr>\n",
       "    <tr>\n",
       "      <th>max</th>\n",
       "      <td>3.648724e+07</td>\n",
       "      <td>2.743213e+08</td>\n",
       "      <td>40.913060</td>\n",
       "      <td>-73.712990</td>\n",
       "      <td>10000.000000</td>\n",
       "      <td>1250.000000</td>\n",
       "      <td>629.000000</td>\n",
       "      <td>58.500000</td>\n",
       "      <td>327.000000</td>\n",
       "      <td>365.000000</td>\n",
       "    </tr>\n",
       "  </tbody>\n",
       "</table>\n",
       "</div>"
      ],
      "text/plain": [
       "                 id       host_id      latitude     longitude         price  \\\n",
       "count  4.889500e+04  4.889500e+04  48895.000000  48895.000000  48895.000000   \n",
       "mean   1.901714e+07  6.762001e+07     40.728949    -73.952170    152.720687   \n",
       "std    1.098311e+07  7.861097e+07      0.054530      0.046157    240.154170   \n",
       "min    2.539000e+03  2.438000e+03     40.499790    -74.244420      0.000000   \n",
       "25%    9.471945e+06  7.822033e+06     40.690100    -73.983070     69.000000   \n",
       "50%    1.967728e+07  3.079382e+07     40.723070    -73.955680    106.000000   \n",
       "75%    2.915218e+07  1.074344e+08     40.763115    -73.936275    175.000000   \n",
       "max    3.648724e+07  2.743213e+08     40.913060    -73.712990  10000.000000   \n",
       "\n",
       "       minimum_nights  number_of_reviews  reviews_per_month  \\\n",
       "count    48895.000000       48895.000000       38843.000000   \n",
       "mean         7.029962          23.274466           1.373221   \n",
       "std         20.510550          44.550582           1.680442   \n",
       "min          1.000000           0.000000           0.010000   \n",
       "25%          1.000000           1.000000           0.190000   \n",
       "50%          3.000000           5.000000           0.720000   \n",
       "75%          5.000000          24.000000           2.020000   \n",
       "max       1250.000000         629.000000          58.500000   \n",
       "\n",
       "       calculated_host_listings_count  availability_365  \n",
       "count                    48895.000000      48895.000000  \n",
       "mean                         7.143982        112.781327  \n",
       "std                         32.952519        131.622289  \n",
       "min                          1.000000          0.000000  \n",
       "25%                          1.000000          0.000000  \n",
       "50%                          1.000000         45.000000  \n",
       "75%                          2.000000        227.000000  \n",
       "max                        327.000000        365.000000  "
      ]
     },
     "execution_count": 3,
     "metadata": {},
     "output_type": "execute_result"
    }
   ],
   "source": [
    "df.describe()"
   ]
  },
  {
   "cell_type": "code",
   "execution_count": 8,
   "id": "dca42331",
   "metadata": {},
   "outputs": [
    {
     "data": {
      "text/plain": [
       "<AxesSubplot:>"
      ]
     },
     "execution_count": 8,
     "metadata": {},
     "output_type": "execute_result"
    },
    {
     "data": {
      "image/png": "[encoded data removed]",
      "text/plain": [
       "<Figure size 432x288 with 1 Axes>"
      ]
     },
     "metadata": {
      "needs_background": "light"
     },
     "output_type": "display_data"
    }
   ],
   "source": [
    "df['price'].hist(bins=250)"
   ]
  },
  {
   "cell_type": "code",
   "execution_count": 10,
   "id": "e434a541",
   "metadata": {},
   "outputs": [
    {
     "data": {
      "text/plain": [
       "86"
      ]
     },
     "execution_count": 10,
     "metadata": {},
     "output_type": "execute_result"
    }
   ],
   "source": [
    "(df['price'] > 2000).sum()"
   ]
  },
  {
   "cell_type": "code",
   "execution_count": 12,
   "id": "c2f3d6c3",
   "metadata": {},
   "outputs": [],
   "source": [
    "df = df.filter(items=['latitude', 'longitude', 'price','minimum_nights', 'number_of_reviews', \n",
    "                      'reviews_per_month', 'calculated_host_listings_count', 'availability_365'])"
   ]
  },
  {
   "cell_type": "markdown",
   "id": "a0d172f4",
   "metadata": {},
   "source": [
    "### Question 1"
   ]
  },
  {
   "cell_type": "code",
   "execution_count": 14,
   "id": "d2a02e78",
   "metadata": {},
   "outputs": [
    {
     "data": {
      "text/plain": [
       "latitude                              0\n",
       "longitude                             0\n",
       "price                                 0\n",
       "minimum_nights                        0\n",
       "number_of_reviews                     0\n",
       "reviews_per_month                 10052\n",
       "calculated_host_listings_count        0\n",
       "availability_365                      0\n",
       "dtype: int64"
      ]
     },
     "execution_count": 14,
     "metadata": {},
     "output_type": "execute_result"
    }
   ],
   "source": [
    "df.isnull().sum()"
   ]
  },
  {
   "cell_type": "markdown",
   "id": "344e6da3",
   "metadata": {},
   "source": [
    "Column `reviews_per_month`. It has `10052` null values."
   ]
  },
  {
   "cell_type": "markdown",
   "id": "a8d7e757",
   "metadata": {},
   "source": [
    "### Question 2"
   ]
  },
  {
   "cell_type": "code",
   "execution_count": 16,
   "id": "551a0c77",
   "metadata": {},
   "outputs": [
    {
     "data": {
      "text/plain": [
       "3.0"
      ]
     },
     "execution_count": 16,
     "metadata": {},
     "output_type": "execute_result"
    }
   ],
   "source": [
    "df['minimum_nights'].median()"
   ]
  },
  {
   "cell_type": "markdown",
   "id": "d3a64bbc",
   "metadata": {},
   "source": [
    "The median is `3.0`."
   ]
  },
  {
   "cell_type": "markdown",
   "id": "962b8148",
   "metadata": {},
   "source": [
    "### Question 3"
   ]
  },
  {
   "cell_type": "markdown",
   "id": "121b40a5",
   "metadata": {},
   "source": [
    "Here the linear regression code used in the course and that should be used in the exercise."
   ]
  },
  {
   "cell_type": "code",
   "execution_count": 61,
   "id": "2323d2e3",
   "metadata": {},
   "outputs": [],
   "source": [
    "def train_linear_regression(X, y):\n",
    "    ones = np.ones(X.shape[0])\n",
    "    X = np.column_stack([ones, X])\n",
    "\n",
    "    XTX = X.T.dot(X)\n",
    "    XTX_inv = np.linalg.inv(XTX)\n",
    "    w_full = XTX_inv.dot(X.T).dot(y)\n",
    "    \n",
    "    return w_full[0], w_full[1:]"
   ]
  },
  {
   "cell_type": "markdown",
   "id": "43f58d7f",
   "metadata": {},
   "source": [
    "We will however compare it with the sklearn linear regression."
   ]
  },
  {
   "cell_type": "code",
   "execution_count": null,
   "id": "2e4f4a44",
   "metadata": {},
   "outputs": [],
   "source": []
  },
  {
   "cell_type": "code",
   "execution_count": 93,
   "id": "3d844af4",
   "metadata": {},
   "outputs": [],
   "source": [
    "def prepare_train_val_test_data(df, random_seed=42):\n",
    "    shuffled_df = df.sample(frac=1, random_state=random_seed)\n",
    "    X = shuffled_df.drop(columns=['price'])\n",
    "    y = shuffled_df['price']\n",
    "    \n",
    "    X_train = X.iloc[0:int(len(df)*0.6)]\n",
    "    X_val = X.iloc[int(len(df)*0.6):int(len(df)*0.8)]\n",
    "    X_test = X.iloc[int(len(df)*0.8):len(df)]\n",
    "    \n",
    "    y_train = y.iloc[0:int(len(df)*0.6)]\n",
    "    y_val = y.iloc[int(len(df)*0.6):int(len(df)*0.8)]\n",
    "    y_test = y.iloc[int(len(df)*0.8):len(df)]\n",
    "    y_train = np.log1p(y_train.values)\n",
    "    y_val = np.log1p(y_val.values)\n",
    "    y_test = np.log1p(y_test.values)\n",
    "    \n",
    "    return X_train, X_val, X_test, y_train, y_val, y_test"
   ]
  },
  {
   "cell_type": "code",
   "execution_count": 94,
   "id": "29bcd58a",
   "metadata": {},
   "outputs": [],
   "source": [
    "X_train, X_val, X_test, y_train, y_val, y_test = prepare_train_val_test_data(df)"
   ]
  },
  {
   "cell_type": "markdown",
   "id": "03b6da3a",
   "metadata": {},
   "source": [
    "##### Fill NA with 0"
   ]
  },
  {
   "cell_type": "code",
   "execution_count": 95,
   "id": "b38fb183",
   "metadata": {},
   "outputs": [],
   "source": [
    "def fill_na_with_0(X_train, X_val, X_test):\n",
    "    X_train_0 = X_train.copy()\n",
    "    X_train_0['reviews_per_month'] = X_train_0['reviews_per_month'].fillna(0)\n",
    "    X_val_0 = X_val.copy()\n",
    "    X_val_0['reviews_per_month'] = X_val_0['reviews_per_month'].fillna(0)\n",
    "    X_test_0 = X_test.copy()\n",
    "    X_test_0['reviews_per_month'] = X_test_0['reviews_per_month'].fillna(0)\n",
    "    return X_train_0, X_val_0, X_test_0"
   ]
  },
  {
   "cell_type": "code",
   "execution_count": 96,
   "id": "f4c3c9a7",
   "metadata": {},
   "outputs": [],
   "source": [
    "X_train_0, X_val_0, X_test_0 = fill_na_with_0(X_train, X_val, X_test)"
   ]
  },
  {
   "cell_type": "code",
   "execution_count": 97,
   "id": "c409a5bd",
   "metadata": {},
   "outputs": [
    {
     "data": {
      "text/plain": [
       "0.41349244074288205"
      ]
     },
     "execution_count": 97,
     "metadata": {},
     "output_type": "execute_result"
    }
   ],
   "source": [
    "model_0 = linear_model.LinearRegression()\n",
    "model_0.fit(X_train_0, y_train)\n",
    "y_val_pred_0 = model_0.predict(X_val_0)\n",
    "mse_0 = mean_squared_error(y_val, y_val_pred_0)\n",
    "mse_0"
   ]
  },
  {
   "cell_type": "code",
   "execution_count": 71,
   "id": "e878e9d1",
   "metadata": {},
   "outputs": [
    {
     "data": {
      "text/plain": [
       "0.41349244074217706"
      ]
     },
     "execution_count": 71,
     "metadata": {},
     "output_type": "execute_result"
    }
   ],
   "source": [
    "w0, w = train_linear_regression(X_train_0, y_train)\n",
    "y_val_pred_0 = w0 + X_val_0.dot(w)\n",
    "mse_0 = mean_squared_error(y_val, y_val_pred_0)\n",
    "mse_0"
   ]
  },
  {
   "cell_type": "code",
   "execution_count": 75,
   "id": "56f69cdc",
   "metadata": {},
   "outputs": [
    {
     "name": "stdout",
     "output_type": "stream",
     "text": [
      "RMSE = 0.64\n"
     ]
    }
   ],
   "source": [
    "print(f'RMSE = {np.sqrt(mse_0):.2f}')"
   ]
  },
  {
   "cell_type": "markdown",
   "id": "a17f7672",
   "metadata": {},
   "source": [
    "##### Fill NA with the mean value"
   ]
  },
  {
   "cell_type": "code",
   "execution_count": 99,
   "id": "418ee983",
   "metadata": {},
   "outputs": [],
   "source": [
    "def fill_na_with_mean(X_train, X_val, X_test):\n",
    "    mean_reviews_per_month = X_train['reviews_per_month'].dropna().mean()\n",
    "\n",
    "    X_train_mean = X_train.copy()\n",
    "    X_train_mean['reviews_per_month'] = X_train_mean['reviews_per_month'].fillna(mean_reviews_per_month)\n",
    "\n",
    "    X_val_mean = X_val.copy()\n",
    "    X_val_mean['reviews_per_month'] = X_val_mean['reviews_per_month'].fillna(mean_reviews_per_month)\n",
    "\n",
    "    X_test_mean = X_train.copy()\n",
    "    X_test_mean['reviews_per_month'] = X_test_mean['reviews_per_month'].fillna(mean_reviews_per_month)\n",
    "    \n",
    "    return X_train_mean, X_val_mean, X_test_mean"
   ]
  },
  {
   "cell_type": "code",
   "execution_count": 100,
   "id": "62669334",
   "metadata": {},
   "outputs": [],
   "source": [
    "X_train_mean, X_val_mean, X_test_mean = fill_na_with_mean(X_train, X_val, X_test)"
   ]
  },
  {
   "cell_type": "code",
   "execution_count": 101,
   "id": "abb84ca9",
   "metadata": {},
   "outputs": [
    {
     "data": {
      "text/plain": [
       "0.4131333513467101"
      ]
     },
     "execution_count": 101,
     "metadata": {},
     "output_type": "execute_result"
    }
   ],
   "source": [
    "model_mean = linear_model.LinearRegression()\n",
    "model_mean.fit(X_train_mean, y_train)\n",
    "y_val_pred_mean = model_mean.predict(X_val_mean)\n",
    "mse_mean = mean_squared_error(y_val, y_val_pred_mean)\n",
    "mse_mean"
   ]
  },
  {
   "cell_type": "code",
   "execution_count": 73,
   "id": "3c52db3d",
   "metadata": {},
   "outputs": [
    {
     "data": {
      "text/plain": [
       "0.4131333513630601"
      ]
     },
     "execution_count": 73,
     "metadata": {},
     "output_type": "execute_result"
    }
   ],
   "source": [
    "w0, w = train_linear_regression(X_train_mean, y_train)\n",
    "y_val_pred_mean = w0 + X_val_mean.dot(w)\n",
    "mse_mean = mean_squared_error(y_val, y_val_pred_mean)\n",
    "mse_mean"
   ]
  },
  {
   "cell_type": "code",
   "execution_count": 76,
   "id": "22b5a970",
   "metadata": {},
   "outputs": [
    {
     "name": "stdout",
     "output_type": "stream",
     "text": [
      "RMSE = 0.64\n"
     ]
    }
   ],
   "source": [
    "print(f'RMSE = {np.sqrt(mse_mean):.2f}')"
   ]
  },
  {
   "cell_type": "markdown",
   "id": "100ffc03",
   "metadata": {},
   "source": [
    "The two approaches result in the same score."
   ]
  },
  {
   "cell_type": "markdown",
   "id": "9266d0f8",
   "metadata": {},
   "source": [
    "### Question 4"
   ]
  },
  {
   "cell_type": "code",
   "execution_count": 77,
   "id": "3e4cc7ab",
   "metadata": {},
   "outputs": [],
   "source": [
    "def train_linear_regression_reg(X, y, r=0.001):\n",
    "    ones = np.ones(X.shape[0])\n",
    "    X = np.column_stack([ones, X])\n",
    "\n",
    "    XTX = X.T.dot(X)\n",
    "    XTX = XTX + r * np.eye(XTX.shape[0])\n",
    "\n",
    "    XTX_inv = np.linalg.inv(XTX)\n",
    "    w_full = XTX_inv.dot(X.T).dot(y)\n",
    "    \n",
    "    return w_full[0], w_full[1:]"
   ]
  },
  {
   "cell_type": "code",
   "execution_count": 91,
   "id": "48348548",
   "metadata": {},
   "outputs": [],
   "source": [
    "r_to_rmse_dict = dict()\n",
    "for r in [0, 0.000001, 0.0001, 0.001, 0.01, 0.1, 1, 5, 10]:\n",
    "    w0, w = train_linear_regression_reg(X_train_0, y_train, r=r)\n",
    "    mse = mean_squared_error(y_val, w0 + X_val_0.dot(w))\n",
    "    r_to_rmse_dict[r] = round(np.sqrt(mse), 2)"
   ]
  },
  {
   "cell_type": "code",
   "execution_count": 92,
   "id": "a0e7457e",
   "metadata": {},
   "outputs": [
    {
     "data": {
      "text/plain": [
       "{0: 0.64,\n",
       " 1e-06: 0.64,\n",
       " 0.0001: 0.64,\n",
       " 0.001: 0.64,\n",
       " 0.01: 0.66,\n",
       " 0.1: 0.68,\n",
       " 1: 0.68,\n",
       " 5: 0.68,\n",
       " 10: 0.68}"
      ]
     },
     "execution_count": 92,
     "metadata": {},
     "output_type": "execute_result"
    }
   ],
   "source": [
    "r_to_rmse_dict"
   ]
  },
  {
   "cell_type": "code",
   "execution_count": 90,
   "id": "a2878716",
   "metadata": {},
   "outputs": [
    {
     "data": {
      "text/plain": [
       "[]"
      ]
     },
     "execution_count": 90,
     "metadata": {},
     "output_type": "execute_result"
    },
    {
     "data": {
      "image/png": "[encoded data removed]",
      "text/plain": [
       "<Figure size 432x288 with 1 Axes>"
      ]
     },
     "metadata": {
      "needs_background": "light"
     },
     "output_type": "display_data"
    }
   ],
   "source": [
    "plt.plot(r_to_rmse_dict.keys(), r_to_rmse_dict.values())\n",
    "plt.semilogx()"
   ]
  },
  {
   "cell_type": "markdown",
   "id": "2a690eaa",
   "metadata": {},
   "source": [
    "The regularization factor `r` that leads to the best score (lowest RMSE) is `0`."
   ]
  },
  {
   "cell_type": "markdown",
   "id": "e6b143b7",
   "metadata": {},
   "source": [
    "### Question 5"
   ]
  },
  {
   "cell_type": "code",
   "execution_count": 102,
   "id": "fb6bfeaa",
   "metadata": {},
   "outputs": [],
   "source": [
    "random_seed_to_rmse_dict = dict()\n",
    "for random_seed in [0, 1, 2, 3, 4, 5, 6, 7, 8, 9]:\n",
    "    X_train, X_val, X_test, y_train, y_val, y_test = prepare_train_val_test_data(df, random_seed=random_seed)\n",
    "    X_train_0, X_val_0, X_test_0 = fill_na_with_0(X_train, X_val, X_test)\n",
    "    model_0 = linear_model.LinearRegression()\n",
    "    model_0.fit(X_train_0, y_train)\n",
    "    y_val_pred_0 = model_0.predict(X_val_0)\n",
    "    mse_0 = mean_squared_error(y_val, y_val_pred_0)\n",
    "    random_seed_to_rmse_dict[random_seed] = np.sqrt(mse_0)"
   ]
  },
  {
   "cell_type": "code",
   "execution_count": 103,
   "id": "35a45cd2",
   "metadata": {},
   "outputs": [
    {
     "data": {
      "text/plain": [
       "{0: 0.6549779961064415,\n",
       " 1: 0.6462523685688221,\n",
       " 2: 0.6476558177202666,\n",
       " 3: 0.6375145070239152,\n",
       " 4: 0.644580908356587,\n",
       " 5: 0.6305809996278339,\n",
       " 6: 0.6297851917331108,\n",
       " 7: 0.6506184266737699,\n",
       " 8: 0.6489780353397663,\n",
       " 9: 0.6437565168235851}"
      ]
     },
     "execution_count": 103,
     "metadata": {},
     "output_type": "execute_result"
    }
   ],
   "source": [
    "random_seed_to_rmse_dict"
   ]
  },
  {
   "cell_type": "code",
   "execution_count": 106,
   "id": "4fa73512",
   "metadata": {},
   "outputs": [
    {
     "data": {
      "text/plain": [
       "0.00793296596571349"
      ]
     },
     "execution_count": 106,
     "metadata": {},
     "output_type": "execute_result"
    }
   ],
   "source": [
    "rmse_std = np.std(list(random_seed_to_rmse_dict.values()))\n",
    "rmse_std"
   ]
  },
  {
   "cell_type": "code",
   "execution_count": 107,
   "id": "c3e3329d",
   "metadata": {},
   "outputs": [
    {
     "data": {
      "text/plain": [
       "0.008"
      ]
     },
     "execution_count": 107,
     "metadata": {},
     "output_type": "execute_result"
    }
   ],
   "source": [
    "round(rmse_std, 3)"
   ]
  },
  {
   "cell_type": "markdown",
   "id": "5c89a3d6",
   "metadata": {},
   "source": [
    "The RMSE std rounded to 3 digit is `0.008`."
   ]
  },
  {
   "cell_type": "markdown",
   "id": "e7f0f4d6",
   "metadata": {},
   "source": [
    "### Question 6"
   ]
  },
  {
   "cell_type": "code",
   "execution_count": 108,
   "id": "ecd555e7",
   "metadata": {},
   "outputs": [],
   "source": [
    "X_train, X_val, X_test, y_train, y_val, y_test = prepare_train_val_test_data(df, random_seed=9)\n",
    "X_train_0, X_val_0, X_test_0 = fill_na_with_0(X_train, X_val, X_test)"
   ]
  },
  {
   "cell_type": "code",
   "execution_count": 109,
   "id": "96986db3",
   "metadata": {},
   "outputs": [],
   "source": [
    "X_train_final = pd.concat([X_train_0, X_val_0])"
   ]
  },
  {
   "cell_type": "code",
   "execution_count": 115,
   "id": "17426425",
   "metadata": {},
   "outputs": [],
   "source": [
    "y_train_final = np.concatenate((y_train, y_val))"
   ]
  },
  {
   "cell_type": "code",
   "execution_count": 116,
   "id": "1b8da45c",
   "metadata": {},
   "outputs": [
    {
     "data": {
      "text/plain": [
       "0.6452771348469271"
      ]
     },
     "execution_count": 116,
     "metadata": {},
     "output_type": "execute_result"
    }
   ],
   "source": [
    "w0, w = train_linear_regression_reg(X_train_final, y_train_final, r=0.001)\n",
    "mse = mean_squared_error(y_test, w0 + X_test_0.dot(w))\n",
    "rmse = np.sqrt(mse)\n",
    "rmse"
   ]
  },
  {
   "cell_type": "markdown",
   "id": "dee44b92",
   "metadata": {},
   "source": [
    "The RMSE on the test dataset is `0.6452771348469271`."
   ]
  },
  {
   "cell_type": "code",
   "execution_count": null,
   "id": "a2b02b84",
   "metadata": {},
   "outputs": [],
   "source": []
  }
 ],
 "metadata": {
  "kernelspec": {
   "display_name": "Python 3 (ipykernel)",
   "language": "python",
   "name": "python3"
  },
  "language_info": {
   "codemirror_mode": {
    "name": "ipython",
    "version": 3
   },
   "file_extension": ".py",
   "mimetype": "text/x-python",
   "name": "python",
   "nbconvert_exporter": "python",
   "pygments_lexer": "ipython3",
   "version": "3.9.7"
  }
 },
 "nbformat": 4,
 "nbformat_minor": 5
}
